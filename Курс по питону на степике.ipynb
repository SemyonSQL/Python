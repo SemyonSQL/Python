{
 "cells": [
  {
   "cell_type": "code",
   "execution_count": 1,
   "id": "307c8ad9",
   "metadata": {},
   "outputs": [
    {
     "data": {
      "text/plain": [
       "66"
      ]
     },
     "execution_count": 1,
     "metadata": {},
     "output_type": "execute_result"
    }
   ],
   "source": [
    "42 + 8 * 3"
   ]
  },
  {
   "cell_type": "code",
   "execution_count": 2,
   "id": "42550a4e",
   "metadata": {},
   "outputs": [
    {
     "ename": "NameError",
     "evalue": "name 'Hello' is not defined",
     "output_type": "error",
     "traceback": [
      "\u001b[0;31m---------------------------------------------------------------------------\u001b[0m",
      "\u001b[0;31mNameError\u001b[0m                                 Traceback (most recent call last)",
      "Input \u001b[0;32mIn [2]\u001b[0m, in \u001b[0;36m<cell line: 1>\u001b[0;34m()\u001b[0m\n\u001b[0;32m----> 1\u001b[0m \u001b[43mHello\u001b[49m\n",
      "\u001b[0;31mNameError\u001b[0m: name 'Hello' is not defined"
     ]
    }
   ],
   "source": [
    "Hello"
   ]
  },
  {
   "cell_type": "code",
   "execution_count": 56,
   "id": "c610e83d",
   "metadata": {},
   "outputs": [
    {
     "ename": "SyntaxError",
     "evalue": "invalid syntax (3816546922.py, line 1)",
     "output_type": "error",
     "traceback": [
      "\u001b[0;36m  Input \u001b[0;32mIn [56]\u001b[0;36m\u001b[0m\n\u001b[0;31m    print (Hello!)\u001b[0m\n\u001b[0m                ^\u001b[0m\n\u001b[0;31mSyntaxError\u001b[0m\u001b[0;31m:\u001b[0m invalid syntax\n"
     ]
    }
   ],
   "source": [
    "print (Hello!)\n",
    "2+2\n"
   ]
  },
  {
   "cell_type": "code",
   "execution_count": 4,
   "id": "e3ef6a89",
   "metadata": {},
   "outputs": [
    {
     "name": "stdout",
     "output_type": "stream",
     "text": [
      "Hello\n"
     ]
    }
   ],
   "source": [
    "print (\"Hello\")"
   ]
  },
  {
   "cell_type": "markdown",
   "id": "8ff219f8",
   "metadata": {},
   "source": [
    "Рамамбахарамамбурум ыфвфывфыв"
   ]
  },
  {
   "cell_type": "code",
   "execution_count": 5,
   "id": "2b8f2f60",
   "metadata": {},
   "outputs": [
    {
     "data": {
      "text/plain": [
       "4"
      ]
     },
     "execution_count": 5,
     "metadata": {},
     "output_type": "execute_result"
    }
   ],
   "source": [
    "\"Hello\"\n",
    "2+2\n"
   ]
  },
  {
   "cell_type": "code",
   "execution_count": 6,
   "id": "3bdf7c2e",
   "metadata": {},
   "outputs": [
    {
     "name": "stdout",
     "output_type": "stream",
     "text": [
      "Hello\n"
     ]
    },
    {
     "data": {
      "text/plain": [
       "4"
      ]
     },
     "execution_count": 6,
     "metadata": {},
     "output_type": "execute_result"
    }
   ],
   "source": [
    "print (\"Hello\")\n",
    "2+2"
   ]
  },
  {
   "cell_type": "code",
   "execution_count": 7,
   "id": "7c09b4fe",
   "metadata": {},
   "outputs": [
    {
     "data": {
      "text/plain": [
       "12345554321"
      ]
     },
     "execution_count": 7,
     "metadata": {},
     "output_type": "execute_result"
    }
   ],
   "source": [
    "11111*1111111\n"
   ]
  },
  {
   "cell_type": "code",
   "execution_count": 8,
   "id": "73494aac",
   "metadata": {},
   "outputs": [
    {
     "data": {
      "text/plain": [
       "(5, 2)"
      ]
     },
     "execution_count": 8,
     "metadata": {},
     "output_type": "execute_result"
    }
   ],
   "source": [
    "(42//8),(42%8)"
   ]
  },
  {
   "cell_type": "code",
   "execution_count": 9,
   "id": "2433d419",
   "metadata": {},
   "outputs": [
    {
     "ename": "ZeroDivisionError",
     "evalue": "division by zero",
     "output_type": "error",
     "traceback": [
      "\u001b[0;31m---------------------------------------------------------------------------\u001b[0m",
      "\u001b[0;31mZeroDivisionError\u001b[0m                         Traceback (most recent call last)",
      "Input \u001b[0;32mIn [9]\u001b[0m, in \u001b[0;36m<cell line: 1>\u001b[0;34m()\u001b[0m\n\u001b[0;32m----> 1\u001b[0m \u001b[38;5;241;43m42\u001b[39;49m\u001b[38;5;241;43m/\u001b[39;49m\u001b[43m(\u001b[49m\u001b[38;5;241;43m4\u001b[39;49m\u001b[38;5;241;43m+\u001b[39;49m\u001b[38;5;241;43m2\u001b[39;49m\u001b[38;5;241;43m*\u001b[39;49m\u001b[43m(\u001b[49m\u001b[38;5;241;43m-\u001b[39;49m\u001b[38;5;241;43m2\u001b[39;49m\u001b[43m)\u001b[49m\u001b[43m)\u001b[49m\n",
      "\u001b[0;31mZeroDivisionError\u001b[0m: division by zero"
     ]
    }
   ],
   "source": [
    "42/(4+2*(-2))"
   ]
  },
  {
   "cell_type": "code",
   "execution_count": 11,
   "id": "c0ae23c6",
   "metadata": {},
   "outputs": [
    {
     "data": {
      "text/plain": [
       "18064773765607550801425251468864907833685590016"
      ]
     },
     "execution_count": 11,
     "metadata": {},
     "output_type": "execute_result"
    }
   ],
   "source": [
    "2014**14"
   ]
  },
  {
   "cell_type": "code",
   "execution_count": 12,
   "id": "724fa847",
   "metadata": {},
   "outputs": [
    {
     "data": {
      "text/plain": [
       "1.806477376560755e+46"
      ]
     },
     "execution_count": 12,
     "metadata": {},
     "output_type": "execute_result"
    }
   ],
   "source": [
    "2014.0**14"
   ]
  },
  {
   "cell_type": "code",
   "execution_count": 13,
   "id": "24a088dc",
   "metadata": {},
   "outputs": [
    {
     "data": {
      "text/plain": [
       "2.3333333333333335"
      ]
     },
     "execution_count": 13,
     "metadata": {},
     "output_type": "execute_result"
    }
   ],
   "source": [
    "7/3"
   ]
  },
  {
   "cell_type": "code",
   "execution_count": 15,
   "id": "97d34d77",
   "metadata": {},
   "outputs": [
    {
     "data": {
      "text/plain": [
       "2"
      ]
     },
     "execution_count": 15,
     "metadata": {},
     "output_type": "execute_result"
    }
   ],
   "source": [
    "int(2.99)"
   ]
  },
  {
   "cell_type": "code",
   "execution_count": 16,
   "id": "bad9b38d",
   "metadata": {},
   "outputs": [
    {
     "data": {
      "text/plain": [
       "-1"
      ]
     },
     "execution_count": 16,
     "metadata": {},
     "output_type": "execute_result"
    }
   ],
   "source": [
    "int(-1.6)"
   ]
  },
  {
   "cell_type": "code",
   "execution_count": 17,
   "id": "46a18a5b",
   "metadata": {},
   "outputs": [
    {
     "data": {
      "text/plain": [
       "89"
      ]
     },
     "execution_count": 17,
     "metadata": {},
     "output_type": "execute_result"
    }
   ],
   "source": [
    "9**19 - int(float(9**19))"
   ]
  },
  {
   "cell_type": "code",
   "execution_count": 19,
   "id": "bb71e74c",
   "metadata": {},
   "outputs": [
    {
     "name": "stdout",
     "output_type": "stream",
     "text": [
      "Введите данные массажи\n"
     ]
    },
    {
     "data": {
      "text/plain": [
       "'массажи'"
      ]
     },
     "execution_count": 19,
     "metadata": {},
     "output_type": "execute_result"
    }
   ],
   "source": [
    "input('Введите данные ')"
   ]
  },
  {
   "cell_type": "code",
   "execution_count": 20,
   "id": "ae070dc9",
   "metadata": {},
   "outputs": [
    {
     "name": "stdout",
     "output_type": "stream",
     "text": [
      "Привет Семён\n",
      "Семён\n"
     ]
    }
   ],
   "source": [
    "print(input('Привет '))"
   ]
  },
  {
   "cell_type": "code",
   "execution_count": 24,
   "id": "d2a0a279",
   "metadata": {},
   "outputs": [
    {
     "name": "stdout",
     "output_type": "stream",
     "text": [
      "asd\n",
      "Привет  asd\n"
     ]
    }
   ],
   "source": [
    "print('Привет ',input())"
   ]
  },
  {
   "cell_type": "code",
   "execution_count": 33,
   "id": "a71f4257",
   "metadata": {},
   "outputs": [
    {
     "name": "stdout",
     "output_type": "stream",
     "text": [
      "введите число3\n",
      "6\n"
     ]
    }
   ],
   "source": [
    "x = int(input('введите число'))\n",
    "\n",
    "print (2*x)\n"
   ]
  },
  {
   "cell_type": "code",
   "execution_count": 35,
   "id": "52de797b",
   "metadata": {},
   "outputs": [
    {
     "name": "stdout",
     "output_type": "stream",
     "text": [
      "введите число2\n",
      "введите число5000000\n",
      "10000000\n"
     ]
    }
   ],
   "source": [
    "x = int(input('введите число'))\n",
    "z = int(input('введите число'))\n",
    "print(x*z)"
   ]
  },
  {
   "cell_type": "code",
   "execution_count": 3,
   "id": "33cf2541",
   "metadata": {},
   "outputs": [
    {
     "name": "stdout",
     "output_type": "stream",
     "text": [
      "512\n",
      "8\n",
      "32\n"
     ]
    }
   ],
   "source": [
    "x = int(input())\n",
    "print(x//60)\n",
    "print(x%60)"
   ]
  },
  {
   "cell_type": "code",
   "execution_count": 6,
   "id": "6d33cee9",
   "metadata": {
    "scrolled": true
   },
   "outputs": [
    {
     "name": "stdout",
     "output_type": "stream",
     "text": [
      "475\n",
      "1\n",
      "55\n",
      "9\n",
      "50\n"
     ]
    }
   ],
   "source": [
    "x = int(input())\n",
    "h = int(input())\n",
    "m = int(input())\n",
    "\n",
    "k = h*60 + m + x\n",
    "\n",
    "print(k//60)\n",
    "print(k%60)"
   ]
  },
  {
   "cell_type": "markdown",
   "id": "52cab2f5",
   "metadata": {},
   "source": [
    "# Условия (if, else, and, or, not)"
   ]
  },
  {
   "cell_type": "code",
   "execution_count": 7,
   "id": "0b62ca6c",
   "metadata": {},
   "outputs": [
    {
     "data": {
      "text/plain": [
       "True"
      ]
     },
     "execution_count": 7,
     "metadata": {},
     "output_type": "execute_result"
    }
   ],
   "source": [
    "x = 5\n",
    "y = 10\n",
    "y > x * x or y >= 2 * x and x < y"
   ]
  },
  {
   "cell_type": "code",
   "execution_count": 13,
   "id": "ba09f524",
   "metadata": {},
   "outputs": [
    {
     "name": "stdout",
     "output_type": "stream",
     "text": [
      "7\n",
      "9\n",
      "2\n",
      "Недосып\n"
     ]
    }
   ],
   "source": [
    "A = int(input())\n",
    "B = int(input())\n",
    "H = int(input())\n",
    "if A <= H <= B:\n",
    "    print('Это нормально')\n",
    "elif H < A:\n",
    "    print('Недосып')\n",
    "else: \n",
    "    print('Пересып')"
   ]
  },
  {
   "cell_type": "markdown",
   "id": "b9f4daed",
   "metadata": {},
   "source": [
    "Високосный год"
   ]
  },
  {
   "cell_type": "code",
   "execution_count": 17,
   "id": "c638007b",
   "metadata": {},
   "outputs": [
    {
     "name": "stdout",
     "output_type": "stream",
     "text": [
      "2000\n",
      "Високосный\n"
     ]
    }
   ],
   "source": [
    "x = int(input())\n",
    "\n",
    "if (x%4 == 0 and x%100 != 0):\n",
    "    print('Високосный')\n",
    "elif x%400 == 0:\n",
    "    print('Високосный')\n",
    "else: \n",
    "    print('Обычный')"
   ]
  },
  {
   "cell_type": "code",
   "execution_count": 18,
   "id": "1b83aac2",
   "metadata": {},
   "outputs": [
    {
     "data": {
      "text/plain": [
       "'12342'"
      ]
     },
     "execution_count": 18,
     "metadata": {},
     "output_type": "execute_result"
    }
   ],
   "source": [
    "\"123\" + \"42\""
   ]
  },
  {
   "cell_type": "code",
   "execution_count": 19,
   "id": "a633dcd9",
   "metadata": {},
   "outputs": [
    {
     "data": {
      "text/plain": [
       "'12342'"
      ]
     },
     "execution_count": 19,
     "metadata": {},
     "output_type": "execute_result"
    }
   ],
   "source": [
    "'123'+'42'"
   ]
  },
  {
   "cell_type": "code",
   "execution_count": 20,
   "id": "7a1d2358",
   "metadata": {},
   "outputs": [
    {
     "name": "stdout",
     "output_type": "stream",
     "text": [
      "12342\n"
     ]
    }
   ],
   "source": [
    "print(\"123\"+\"42\")"
   ]
  },
  {
   "cell_type": "code",
   "execution_count": 21,
   "id": "42983a27",
   "metadata": {},
   "outputs": [
    {
     "name": "stdout",
     "output_type": "stream",
     "text": [
      "3\n",
      "4\n",
      "5\n",
      "6.0\n"
     ]
    }
   ],
   "source": [
    "a = int(input())\n",
    "b = int(input())\n",
    "c = int(input())\n",
    "p = float((a+b+c)/2)\n",
    "S = float((p*(p-a)*(p-b)*(p-c))**0.5)\n",
    "print(S)"
   ]
  },
  {
   "cell_type": "code",
   "execution_count": 28,
   "id": "dc159559",
   "metadata": {},
   "outputs": [
    {
     "name": "stdout",
     "output_type": "stream",
     "text": [
      "0\n"
     ]
    },
    {
     "data": {
      "text/plain": [
       "True"
      ]
     },
     "execution_count": 28,
     "metadata": {},
     "output_type": "execute_result"
    }
   ],
   "source": [
    "#попадает ли число в интервал (−15,12]∪(14,17)∪[19,+∞)\n",
    "x = int(input())\n",
    "-15 < x <= 12 or 14<x<17 or x>=19"
   ]
  },
  {
   "cell_type": "code",
   "execution_count": 38,
   "id": "bac53c43",
   "metadata": {},
   "outputs": [
    {
     "name": "stdout",
     "output_type": "stream",
     "text": [
      "2\n",
      "2\n",
      "pow\n",
      "4.0\n"
     ]
    }
   ],
   "source": [
    "#калькулятор\n",
    "a = float(input())\n",
    "b = float(input())\n",
    "c = str(input())\n",
    "if c == '+':\n",
    "    print(a+b)\n",
    "elif c == '-':\n",
    "    print(a-b)\n",
    "elif c == '*':\n",
    "    print(a*b)\n",
    "elif c == '/' and b != 0: \n",
    "    print (a/b)\n",
    "elif c == '/' and b == 0:\n",
    "        print('Деление на 0!')\n",
    "elif c == 'mod' and b != 0:\n",
    "    print(a%b)\n",
    "elif c == 'mod' and b == 0:\n",
    "        print('Деление на 0!')\n",
    "elif c == 'div' and b != 0:\n",
    "    print(a//b)\n",
    "elif c == 'div' and b == 0:\n",
    "        print('Деление на 0!')\n",
    "elif c == 'pow':\n",
    "    print(a**b)\n"
   ]
  },
  {
   "cell_type": "code",
   "execution_count": 46,
   "id": "8936a256",
   "metadata": {},
   "outputs": [
    {
     "name": "stdout",
     "output_type": "stream",
     "text": [
      "круг\n",
      "1\n",
      "3.14\n"
     ]
    }
   ],
   "source": [
    "#площадь фигур\n",
    "x = str(input())\n",
    "if x == 'прямоугольник':\n",
    "    a = int(input())\n",
    "    b = int(input())\n",
    "    print(float(a*b))\n",
    "elif x == 'треугольник':\n",
    "    a = int(input())\n",
    "    b = int(input())\n",
    "    c = int(input())\n",
    "    p = float((a+b+c)/2)\n",
    "    S = float((p*(p-a)*(p-b)*(p-c))**0.5)\n",
    "    print(S)\n",
    "elif x == 'круг':\n",
    "    r = int(input())\n",
    "    print(float(3.14*(r**2)))"
   ]
  },
  {
   "cell_type": "code",
   "execution_count": 49,
   "id": "86648814",
   "metadata": {},
   "outputs": [
    {
     "name": "stdout",
     "output_type": "stream",
     "text": [
      "23\n",
      "21\n",
      "23\n",
      "23\n",
      "21\n",
      "23\n"
     ]
    }
   ],
   "source": [
    "a = int(input())\n",
    "b = int(input())\n",
    "c = int(input())\n",
    "if a>=b>=c:\n",
    "    print(a)\n",
    "    print(c)\n",
    "    print(b)\n",
    "elif b>=c>=a:\n",
    "    print(b)\n",
    "    print(a)\n",
    "    print(c)\n",
    "elif c>=a>=b:\n",
    "    print(c)\n",
    "    print(b)\n",
    "    print(a)\n",
    "elif b>=a>=c:\n",
    "    print(b)\n",
    "    print(c)\n",
    "    print(a)\n",
    "    \n",
    "    "
   ]
  },
  {
   "cell_type": "code",
   "execution_count": 53,
   "id": "0d0d6fa1",
   "metadata": {},
   "outputs": [
    {
     "name": "stdout",
     "output_type": "stream",
     "text": [
      "500\n",
      "500\n",
      "500\n",
      "500\n",
      "500\n",
      "500\n"
     ]
    }
   ],
   "source": [
    "#последовательность чисел - максимальное, минимальное, среднее\n",
    "a = int(input())\n",
    "b = int(input())\n",
    "c = int(input())\n",
    "z = a+b+c\n",
    "if c<=a>=b:\n",
    "    mx=a\n",
    "elif b<=c>=a:\n",
    "    mx=c\n",
    "elif c<=b>=a:\n",
    "    mx=b\n",
    "if a>=b<=c:\n",
    "    mn=b\n",
    "elif b>=c<=a:\n",
    "    mn=c\n",
    "elif c>=a<=b:\n",
    "    mn=a\n",
    "    \n",
    "print(mx,mn,(z-mn-mx),sep=\"\\n\")\n",
    "\n",
    "    "
   ]
  },
  {
   "cell_type": "code",
   "execution_count": 99,
   "id": "d74a6365",
   "metadata": {},
   "outputs": [
    {
     "name": "stdout",
     "output_type": "stream",
     "text": [
      "572\n",
      "572 программиста\n"
     ]
    }
   ],
   "source": [
    "#робот и программисты\n",
    "x = int(input())\n",
    "if (x-(x//100)*100)==11 or (x-(x//100)*100)==12 or (x-(x//100)*100)==13 or (x-(x//100)*100)==14:\n",
    "    print(x,'программистов')\n",
    "else:\n",
    "    if x-(x//100)*100-((x-x//100*100)//10)*10 ==0:\n",
    "        print(x,'программистов')\n",
    "    elif x-(x//100)*100-((x-x//100*100)//10)*10==1:\n",
    "        print(x,'программист')\n",
    "    elif 2<=x-(x//100)*100-((x-x//100*100)//10)*10<=4:\n",
    "        print(x,'программиста')\n",
    "    else:\n",
    "        print(x,'программистов')"
   ]
  },
  {
   "cell_type": "code",
   "execution_count": 141,
   "id": "f5421c85",
   "metadata": {},
   "outputs": [
    {
     "name": "stdout",
     "output_type": "stream",
     "text": [
      "456654\n",
      "Счастливый\n"
     ]
    }
   ],
   "source": [
    "#счастливый билет в трамвае\n",
    "x = int(input())\n",
    "a = x//1000\n",
    "b = x%1000\n",
    "c = a//100 + (a - a//100*100)//10 + (a - a//100*100 -(a - a//100*100)//10*10)\n",
    "a = b\n",
    "d = a//100 + (a - a//100*100)//10 + (a - a//100*100 -(a - a//100*100)//10*10)\n",
    "if c == d:\n",
    "    print('Счастливый')\n",
    "else:\n",
    "    print('Обычный')"
   ]
  },
  {
   "cell_type": "markdown",
   "id": "5fd2db72",
   "metadata": {},
   "source": [
    " #                                                          Циклы"
   ]
  },
  {
   "cell_type": "code",
   "execution_count": 154,
   "id": "af40633e",
   "metadata": {},
   "outputs": [
    {
     "name": "stdout",
     "output_type": "stream",
     "text": [
      "25\n",
      "*\n",
      "**\n",
      "***\n",
      "****\n",
      "*****\n",
      "******\n",
      "*******\n",
      "********\n",
      "*********\n",
      "**********\n",
      "***********\n",
      "************\n",
      "*************\n",
      "**************\n",
      "***************\n",
      "****************\n",
      "*****************\n",
      "******************\n",
      "*******************\n",
      "********************\n",
      "*********************\n",
      "**********************\n",
      "***********************\n",
      "************************\n",
      "*************************\n",
      "**************************\n"
     ]
    }
   ],
   "source": [
    "#Половина Ёлочки\n",
    "n=int(input())\n",
    "a = ''\n",
    "while len(a)<=n:\n",
    "    a = a+'*'\n",
    "    print(a, end='\\n')\n",
    "    \n"
   ]
  },
  {
   "cell_type": "code",
   "execution_count": 158,
   "id": "f88b49e1",
   "metadata": {},
   "outputs": [
    {
     "name": "stdout",
     "output_type": "stream",
     "text": [
      "2\n",
      "8\n",
      "35\n"
     ]
    }
   ],
   "source": [
    "s = 0\n",
    "a = int(input())\n",
    "b = int(input())\n",
    "i = a \n",
    "while i<=b:\n",
    "    s +=i\n",
    "    i +=1\n",
    "print(s)\n",
    "    \n",
    "    "
   ]
  },
  {
   "cell_type": "code",
   "execution_count": 3,
   "id": "d5c1f018",
   "metadata": {},
   "outputs": [
    {
     "name": "stdout",
     "output_type": "stream",
     "text": [
      "0\n",
      "0\n"
     ]
    }
   ],
   "source": [
    "#input в цикле\n",
    "s = 0\n",
    "i = 5\n",
    "while i != 0:\n",
    "    i = int(input())\n",
    "    s = s + i\n",
    "print(s)"
   ]
  },
  {
   "cell_type": "code",
   "execution_count": 24,
   "id": "daaa1d73",
   "metadata": {},
   "outputs": [
    {
     "name": "stdout",
     "output_type": "stream",
     "text": [
      "7\n",
      "4\n",
      "28\n"
     ]
    }
   ],
   "source": [
    "#общий делитель\n",
    "a = int(input())\n",
    "b = int(input())\n",
    "s = 1\n",
    "while (s%a != 0) or (s%b != 0):\n",
    "    s +=1\n",
    "print(s)"
   ]
  },
  {
   "cell_type": "code",
   "execution_count": 25,
   "id": "9bc5c562",
   "metadata": {},
   "outputs": [
    {
     "name": "stdout",
     "output_type": "stream",
     "text": [
      "7\n",
      "4\n",
      "28\n"
     ]
    }
   ],
   "source": [
    "a, b = int(input()), int(input())\n",
    "s = a\n",
    "while s % a or s % b:\n",
    "    s += a\n",
    "print(s)"
   ]
  },
  {
   "cell_type": "code",
   "execution_count": 28,
   "id": "7dd73aeb",
   "metadata": {},
   "outputs": [
    {
     "name": "stdout",
     "output_type": "stream",
     "text": [
      "12\n",
      "12\n",
      "4\n",
      "2\n",
      "556\n"
     ]
    }
   ],
   "source": [
    "#операторы continue, break\n",
    "x = 0\n",
    "while x <= 100:\n",
    "    x = int(input())\n",
    "    if x < 10:\n",
    "        continue \n",
    "    if x > 100:\n",
    "        break\n",
    "    print(x)"
   ]
  },
  {
   "cell_type": "code",
   "execution_count": 29,
   "id": "fe963d40",
   "metadata": {},
   "outputs": [
    {
     "name": "stdout",
     "output_type": "stream",
     "text": [
      "5\n",
      "8\n",
      "12\n",
      "4\n",
      "48\n",
      "112\n",
      "12\n",
      "48\n",
      "\n"
     ]
    }
   ],
   "source": [
    "b = ''\n",
    "\n",
    "while True:\n",
    "    a = int(input())\n",
    "    if a < 10:\n",
    "        continue\n",
    "    elif a > 100:\n",
    "        break\n",
    "    else:\n",
    "        b = b + str(a) + '\\n'\n",
    "print (b)"
   ]
  },
  {
   "cell_type": "code",
   "execution_count": 15,
   "id": "7dc4da3c",
   "metadata": {},
   "outputs": [
    {
     "name": "stdout",
     "output_type": "stream",
     "text": [
      "10\n",
      "* * * * * * * * * * \n",
      "* * * * * * * * * * \n",
      "* * * * * * * * * * \n",
      "* * * * * * * * * * \n",
      "* * * * * * * * * * \n",
      "* * * * * * * * * * \n",
      "* * * * * * * * * * \n",
      "* * * * * * * * * * \n",
      "* * * * * * * * * * \n",
      "* * * * * * * * * * \n"
     ]
    }
   ],
   "source": [
    "#циклы for\n",
    "n = int(input())\n",
    "for i in range(n):\n",
    "    print('* '*n)"
   ]
  },
  {
   "cell_type": "code",
   "execution_count": 36,
   "id": "8abd5f96",
   "metadata": {},
   "outputs": [
    {
     "name": "stdout",
     "output_type": "stream",
     "text": [
      "10\n",
      "* * * * * * * * * * \n",
      "* * * * * * * * * * \n",
      "* * * * * * * * * * \n",
      "* * * * * * * * * * \n",
      "* * * * * * * * * * \n",
      "* * * * * * * * * * \n",
      "* * * * * * * * * * \n",
      "* * * * * * * * * * \n",
      "* * * * * * * * * * \n",
      "* * * * * * * * * * \n"
     ]
    }
   ],
   "source": [
    "n = int(input())\n",
    "for i in range(n):\n",
    "    for j in range(n):\n",
    "        print('* ', end='')\n",
    "    print()"
   ]
  },
  {
   "cell_type": "code",
   "execution_count": 34,
   "id": "ffea5ce9",
   "metadata": {},
   "outputs": [
    {
     "name": "stdout",
     "output_type": "stream",
     "text": [
      "1\n",
      "9\n",
      "1\n",
      "9\n",
      "\t 1\t 2\t 3\t 4\t 5\t 6\t 7\t 8\t 9\n",
      "1\t 1\t 2\t 3\t 4\t 5\t 6\t 7\t 8\t 9\n",
      "2\t 2\t 4\t 6\t 8\t 10\t 12\t 14\t 16\t 18\n",
      "3\t 3\t 6\t 9\t 12\t 15\t 18\t 21\t 24\t 27\n",
      "4\t 4\t 8\t 12\t 16\t 20\t 24\t 28\t 32\t 36\n",
      "5\t 5\t 10\t 15\t 20\t 25\t 30\t 35\t 40\t 45\n",
      "6\t 6\t 12\t 18\t 24\t 30\t 36\t 42\t 48\t 54\n",
      "7\t 7\t 14\t 21\t 28\t 35\t 42\t 49\t 56\t 63\n",
      "8\t 8\t 16\t 24\t 32\t 40\t 48\t 56\t 64\t 72\n",
      "9\t 9\t 18\t 27\t 36\t 45\t 54\t 63\t 72\t 81\n"
     ]
    }
   ],
   "source": [
    "#таблица умножения\n",
    "a,b,c,d = int(input()),int(input()),int(input()),int(input())\n",
    "for i in range(c,d+1,1):\n",
    "    print('\\t', i, end='')\n",
    "print()\n",
    "for j in range(a,b+1,1):\n",
    "    print(j, end='')\n",
    "    for k in range(c,d+1,1):\n",
    "        print('\\t', j*k, end='')\n",
    "    print()\n"
   ]
  },
  {
   "cell_type": "code",
   "execution_count": 40,
   "id": "817e9458",
   "metadata": {},
   "outputs": [
    {
     "name": "stdout",
     "output_type": "stream",
     "text": [
      "-5 12\n",
      "4.5\n"
     ]
    }
   ],
   "source": [
    "#сумма числе кратных 3 из диапазона\n",
    "a,b = (int(i) for i in input().split())\n",
    "s=0\n",
    "c=0\n",
    "for i in range (a, b+1):\n",
    "    if i%3==0:\n",
    "        s +=i\n",
    "        c +=1\n",
    "    \n",
    "print(float(s/c))"
   ]
  },
  {
   "cell_type": "code",
   "execution_count": 2,
   "id": "f220ce8e",
   "metadata": {},
   "outputs": [
    {
     "name": "stdout",
     "output_type": "stream",
     "text": [
      "Gfdsc\n",
      "40.0\n"
     ]
    }
   ],
   "source": [
    "#Напишите программу, которая вычисляет процентное содержание символов G (гуанин) и C (цитозин) в введенной строке \n",
    "#(программа не должна зависеть от регистра вводимых символов).\n",
    "#Например, в строке \"acggtgttat\" процентное содержание символов G и C равно 40.0 \n",
    "\n",
    "a = input()\n",
    "a = a.lower()\n",
    "cnt = (a.count('g') + a.count('c'))/len(a)*100\n",
    "print(cnt)\n"
   ]
  },
  {
   "cell_type": "code",
   "execution_count": 55,
   "id": "aca99685",
   "metadata": {},
   "outputs": [
    {
     "name": "stdout",
     "output_type": "stream",
     "text": [
      "aaaaabbcbcbcbcccada\n",
      "a5b2c1b1c1b1c1b1c3a1d1a1"
     ]
    }
   ],
   "source": [
    "#s = 'aaaabbсaa' преобразуется в 'a4b2с1a2'\n",
    "gen = input()\n",
    "cnt = 1\n",
    "for c in range(len(gen)-1):\n",
    "    if gen[c] == gen[c+1]:\n",
    "        cnt += 1 \n",
    "    else:\n",
    "        print(gen[c]+str(cnt),end='')\n",
    "        cnt = 1\n",
    "print(gen[-1]+str(cnt),end='')"
   ]
  },
  {
   "cell_type": "code",
   "execution_count": 59,
   "id": "1852c38e",
   "metadata": {},
   "outputs": [
    {
     "name": "stdout",
     "output_type": "stream",
     "text": [
      "['Ivan', 'Masha', 'Sasha', 'Olga', 'O', 'l', 'g', 'a']\n"
     ]
    }
   ],
   "source": [
    "students = ['Ivan', 'Masha', 'Sasha']\n",
    "students += ['Olga']\n",
    "students += 'Olga'\n",
    "print(students)"
   ]
  },
  {
   "cell_type": "code",
   "execution_count": 62,
   "id": "6a95bb7b",
   "metadata": {},
   "outputs": [
    {
     "name": "stdout",
     "output_type": "stream",
     "text": [
      "1 -5 3 5\n",
      "4\n"
     ]
    }
   ],
   "source": [
    "#Напишите программу, на вход которой подается одна строка с целыми числами. Программа должна вывести сумму этих чисел.\n",
    "\n",
    "a = [int(i) for i in input().split()]\n",
    "st = 0\n",
    "for i in a:\n",
    "    st = st + i\n",
    "print(st)"
   ]
  },
  {
   "cell_type": "code",
   "execution_count": 83,
   "id": "cf790cf6",
   "metadata": {},
   "outputs": [
    {
     "name": "stdout",
     "output_type": "stream",
     "text": [
      "10\n",
      "10\n"
     ]
    }
   ],
   "source": [
    "#сумма двух соседей списка\n",
    "a = [int(i) for i in input().split()]\n",
    "b = []\n",
    "if len(a) == 1:\n",
    "    print(a[0])\n",
    "else:\n",
    "    for i in range(len(a)-1):\n",
    "        print(a[i-1]+a[i+1],end=' ')\n",
    "    print(a[-2]+a[0])\n",
    "        \n"
   ]
  },
  {
   "cell_type": "code",
   "execution_count": 1,
   "id": "a1041912",
   "metadata": {},
   "outputs": [
    {
     "name": "stdout",
     "output_type": "stream",
     "text": [
      "100000 100000 2\n",
      "100000 "
     ]
    }
   ],
   "source": [
    "# Напишите программу, которая принимает на вход список чисел в одной строке и выводит на экран в одну строку значения,\n",
    "# которые встречаются в нём более одного раза. Выводимые числа не должны повторяться, порядок их вывода может быть произвольным.\n",
    "a = [int(i) for i in input().split()]\n",
    "\n",
    "for i in range(max(a)+1):\n",
    "    cnt = a.count(i)\n",
    "    if cnt>= 2:\n",
    "        print(i, end=' ')\n",
    "        \n",
    "# программа не работает с большими числами. Почему? \n",
    "# Видимо потому, что range пробегает до больших чисел весьма долго....10000000000000000000\n"
   ]
  },
  {
   "cell_type": "code",
   "execution_count": 3,
   "id": "95b71a66",
   "metadata": {},
   "outputs": [
    {
     "name": "stdout",
     "output_type": "stream",
     "text": [
      "10000000000000000000 10000000000000000000 2\n",
      "10000000000000000000 "
     ]
    }
   ],
   "source": [
    "a, c = [str(i) for i in input().split()], []\n",
    "for i in a:\n",
    "    if i not in c and a.count(i) > 1:\n",
    "        c.append(i)\n",
    "        print(i, end=' ')\n",
    "        \n",
    "#работает с большими числами прекрасно"
   ]
  },
  {
   "cell_type": "code",
   "execution_count": 56,
   "id": "b15421df",
   "metadata": {},
   "outputs": [
    {
     "name": "stdout",
     "output_type": "stream",
     "text": [
      "1 2 12 2 3 4 2 3 12 \n",
      "2 3 12 [1, 2, 12, 2, 3, 4, 2, 3, 12]\n"
     ]
    }
   ],
   "source": [
    "ls = [int(i) for i in input().split()]\n",
    "for i in set(ls):  #тут используется функция SET - выбор всех уникальных значений в списке.\n",
    "    if ls.count(i) > 1:\n",
    "        print(i, end=' ')\n",
    "print(ls)\n"
   ]
  },
  {
   "cell_type": "code",
   "execution_count": 12,
   "id": "6f636294",
   "metadata": {},
   "outputs": [
    {
     "name": "stdout",
     "output_type": "stream",
     "text": [
      "1\n",
      "-3\n",
      "5\n",
      "-6\n",
      "-10\n",
      "13\n",
      "340\n"
     ]
    }
   ],
   "source": [
    "#Напишите программу, которая считывает с консоли числа (по одному в строке) до тех пор, \n",
    "#пока сумма введённых чисел не будет равна 0 и сразу после этого выводит сумму квадратов всех считанных чисел.\n",
    "\n",
    "x = 0 \n",
    "z = 0\n",
    "b = []\n",
    "while True:\n",
    "    a = int(input())\n",
    "    x += a\n",
    "    b += [a]\n",
    "    if x == 0:\n",
    "        break\n",
    "for j in b:\n",
    "    z += j**2\n",
    "        \n",
    "print(z)"
   ]
  },
  {
   "cell_type": "code",
   "execution_count": 21,
   "id": "a62e5726",
   "metadata": {},
   "outputs": [
    {
     "name": "stdout",
     "output_type": "stream",
     "text": [
      "1 2 3 "
     ]
    }
   ],
   "source": [
    "a = [1,2,3]\n",
    "for i in a:\n",
    "    print(i, end=' ')"
   ]
  },
  {
   "cell_type": "code",
   "execution_count": 1,
   "id": "3c80bd88",
   "metadata": {},
   "outputs": [
    {
     "name": "stdout",
     "output_type": "stream",
     "text": [
      "9\n",
      "1 2 2 3 3 3 4 4 4\n"
     ]
    }
   ],
   "source": [
    "#На вход программе передаётся неотрицательное целое число n — столько элементов последовательности должна отобразить программа. \n",
    "#На выходе ожидается последовательность чисел, записанных через пробел в одну строку.\n",
    "#Например, если n = 7, то программа должна вывести 1 2 2 3 3 3 4.\n",
    "\n",
    "n = int(input())\n",
    "a = []\n",
    "if n == 1:\n",
    "    print(1)\n",
    "elif n == 2:\n",
    "    print(1,2)\n",
    "else:\n",
    "    for i in range(n):\n",
    "        for j in range(i+1):\n",
    "            if len(a) == n:\n",
    "                break\n",
    "            elif j == 0:\n",
    "                continue\n",
    "            else:\n",
    "                a += [i]\n",
    "\n",
    "print(*a)"
   ]
  },
  {
   "cell_type": "code",
   "execution_count": 8,
   "id": "2fb71e89",
   "metadata": {},
   "outputs": [
    {
     "name": "stdout",
     "output_type": "stream",
     "text": [
      "5 8 2 7 8 8 2 4\n",
      "10\n",
      "Отсутствует\n"
     ]
    }
   ],
   "source": [
    "lst = [int(i) for i in input().split()]\n",
    "a = int(input())\n",
    "j = 0\n",
    "for i in range(len(lst)):\n",
    "    if lst[i] == a:\n",
    "        print(i, end=' ')\n",
    "        j +=1\n",
    "if j == 0:\n",
    "    print('Отсутствует')"
   ]
  },
  {
   "cell_type": "code",
   "execution_count": 39,
   "id": "65eab628",
   "metadata": {},
   "outputs": [
    {
     "name": "stdout",
     "output_type": "stream",
     "text": [
      "1234\n",
      "345\n",
      "678\n"
     ]
    }
   ],
   "source": [
    "a = [[1,2,3],[3,4,5],[6,7,8]]\n",
    "for i in a:\n",
    "    for j in i:\n",
    "        print(j, end='')\n",
    "    print()\n",
    "    "
   ]
  },
  {
   "cell_type": "code",
   "execution_count": 60,
   "id": "da696ac6",
   "metadata": {},
   "outputs": [
    {
     "name": "stdout",
     "output_type": "stream",
     "text": [
      "1 -1     3\n",
      "3 3 4\n",
      "2   -2   -2\n",
      "end\n",
      "7 5 2 \n",
      "10 4 7 \n",
      "0 2 7 \n"
     ]
    }
   ],
   "source": [
    "#Напишите программу, на вход которой подаётся прямоугольная матрица в виде последовательности строк. \n",
    "#После последней строки матрицы идёт строка, содержащая только строку \"end\" (без кавычек, см. Sample Input).\n",
    "#Программа должна вывести матрицу того же размера, у которой каждый элемент в позиции i, j \n",
    "# равен сумме элементов первой матрицы на позициях (i-1, j), (i+1, j), (i, j-1), (i, j+1). \n",
    "#У крайних символов соседний элемент находится с противоположной стороны матрицы.\n",
    "b = []\n",
    "d = []\n",
    "u = []\n",
    "o = []\n",
    "cnt = 0\n",
    "while True:\n",
    "    a = input() #количество пробелов между значениями в строке не играет роли!\n",
    "    \n",
    "    if a == 'end':\n",
    "        break\n",
    "    cnt +=1\n",
    "    c = a.replace(' ','')\n",
    "    d += [c]\n",
    "#print(d)\n",
    "for j in range(len(d)):\n",
    "    for i in range(len(d[j])):\n",
    "        if d[j][i] == '-':\n",
    "            continue\n",
    "        if int(d[j][i]) > 0 and str(d[j][i-1]) == '-':\n",
    "            b += [int(d[j][i])*(-1)]\n",
    "        else:\n",
    "            b += [int(d[j][i])]\n",
    "\n",
    "f = 0\n",
    "for i in range(cnt):\n",
    "    o = []\n",
    "    for j in range(int(len(b)/cnt)):\n",
    "        o += [b[j+f]]\n",
    "    u +=[o]\n",
    "    f += int(len(b)/cnt)\n",
    "    \n",
    "#Ввод приведен к нормальному ввиду вложенного списка!\n",
    "\n",
    "    \n",
    "m = len(u[0])\n",
    "n = len(u)\n",
    "\n",
    "for i in range(len(u)):\n",
    "    for j in range(m):\n",
    "        print(int(u[i-1][j])+int(u[i-n+1][j])+int(u[i][j-1])+int(u[i][j-m+1]), end=' ')\n",
    "    print()\n",
    "\n",
    "#print(u)\n"
   ]
  },
  {
   "cell_type": "code",
   "execution_count": 1,
   "id": "14fd913b",
   "metadata": {},
   "outputs": [
    {
     "name": "stdout",
     "output_type": "stream",
     "text": [
      "111\n",
      "121\n",
      "123\n",
      "end\n",
      "466 \n",
      "476 \n",
      "478 \n"
     ]
    }
   ],
   "source": [
    "#таже задача с матрицей\n",
    "#решение, которое принимает курс на степике!\n",
    "n = ''\n",
    "m = []\n",
    "while True:\n",
    "    n = str(input()) # ввод строк\n",
    "    if n == 'end':\n",
    "        break\n",
    "    m.append([int(s) for s in n.split()]) \n",
    "li, lj = len(m), len(m[0])\n",
    "new = [[sum([m[i-1][j], m[(i+1)%li][j], m[i][j-1], m[i][(j+1)%lj]]) for j in range(lj)] for i in range(li)]\n",
    "\n",
    "for i in range (li):\n",
    "    for j in range (lj):\n",
    "        print(new[i][j], end =' ')\n",
    "    print()"
   ]
  },
  {
   "cell_type": "code",
   "execution_count": 10,
   "id": "9c29a3f0",
   "metadata": {},
   "outputs": [
    {
     "name": "stdout",
     "output_type": "stream",
     "text": [
      "10\n",
      "[10, 5, 5, 5, 5, 5, 5, 5, 5, 5]\n",
      "[3, 10, 5, 5, 5, 5, 5, 5, 5, 5]\n",
      "[3, 3, 10, 5, 5, 5, 5, 5, 5, 5]\n",
      "[3, 3, 3, 10, 5, 5, 5, 5, 5, 5]\n",
      "[3, 3, 3, 3, 10, 5, 5, 5, 5, 5]\n",
      "[3, 3, 3, 3, 3, 10, 5, 5, 5, 5]\n",
      "[3, 3, 3, 3, 3, 3, 10, 5, 5, 5]\n",
      "[3, 3, 3, 3, 3, 3, 3, 10, 5, 5]\n",
      "[3, 3, 3, 3, 3, 3, 3, 3, 10, 5]\n",
      "[3, 3, 3, 3, 3, 3, 3, 3, 3, 10]\n"
     ]
    }
   ],
   "source": [
    "a = []\n",
    "x = int(input()) #переменная\n",
    "\n",
    "for i in range(x):\n",
    "    a.append([0]*x)\n",
    "for i in range(x):\n",
    "    for j in range(x):\n",
    "        if i==j:\n",
    "            a[i][j] = 10\n",
    "        elif i>j:\n",
    "            a[i][j] = 3\n",
    "        else:\n",
    "            a[i][j] = 5\n",
    "for i in a:\n",
    "    print(i)\n",
    "        "
   ]
  },
  {
   "cell_type": "code",
   "execution_count": 1,
   "id": "c351241d",
   "metadata": {
    "scrolled": false
   },
   "outputs": [
    {
     "name": "stdout",
     "output_type": "stream",
     "text": [
      "10\n",
      "[1, 2, 3, 4, 5, 6, 7, 8, 9, 10]\n",
      "[36, 36, 36, 36, 36, 36, 36, 36, 36, 11]\n",
      "[35, 35, 35, 35, 35, 35, 35, 35, 35, 12]\n",
      "[34, 34, 34, 34, 34, 34, 34, 34, 34, 13]\n",
      "[33, 33, 33, 33, 33, 33, 33, 33, 33, 14]\n",
      "[32, 32, 32, 32, 32, 32, 32, 32, 32, 15]\n",
      "[31, 31, 31, 31, 31, 31, 31, 31, 31, 16]\n",
      "[30, 30, 30, 30, 30, 30, 30, 30, 30, 17]\n",
      "[29, 29, 29, 29, 29, 29, 29, 29, 29, 18]\n",
      "[28, 27, 26, 25, 24, 23, 22, 21, 20, 19]\n"
     ]
    }
   ],
   "source": [
    "a = []\n",
    "x = int(input()) #переменная\n",
    "cnt=0\n",
    "\n",
    "for i in range(x):\n",
    "    a.append([0]*x)\n",
    "for i in range(x):\n",
    "    for j in range(x):\n",
    "        a[i][j] = i+j+1\n",
    "\n",
    "for i in range(x-1,-1,-1):\n",
    "    for j in range(x-1,-1,-1):\n",
    "        if i == 0 or j == x-1:\n",
    "            continue\n",
    "        else:\n",
    "            a[i][j] = max(set(a[x-1]))+1\n",
    "for j in range(x):\n",
    "    for i in range(x-1,-1,-1):\n",
    "        if i == 0 or i == x-1 or j == x-1:\n",
    "            continue\n",
    "        else:\n",
    "            a[i][j] = max(a[i+1])+1\n",
    "\n",
    "for i in a:\n",
    "    print(i)\n",
    "\n",
    "        "
   ]
  },
  {
   "cell_type": "code",
   "execution_count": 43,
   "id": "c5c04998",
   "metadata": {},
   "outputs": [
    {
     "name": "stdout",
     "output_type": "stream",
     "text": [
      "10\n",
      "[1, 2, 3, 4, 5, 6, 7, 8, 9, 10]\n",
      "[36, 0, 0, 0, 0, 0, 0, 0, 0, 11]\n",
      "[35, 0, 0, 0, 0, 0, 0, 0, 0, 12]\n",
      "[34, 0, 0, 0, 0, 0, 0, 0, 0, 13]\n",
      "[33, 0, 0, 0, 0, 0, 0, 0, 0, 14]\n",
      "[32, 0, 0, 0, 0, 0, 0, 0, 0, 15]\n",
      "[31, 0, 0, 0, 0, 0, 0, 0, 0, 16]\n",
      "[30, 0, 0, 0, 0, 0, 0, 0, 0, 17]\n",
      "[29, 0, 0, 0, 0, 0, 0, 0, 0, 18]\n",
      "[28, 27, 26, 25, 24, 23, 22, 21, 20, 19]\n"
     ]
    }
   ],
   "source": [
    "a = []\n",
    "x = int(input()) #переменная\n",
    "cnt=1\n",
    "z = x\n",
    "\n",
    "for i in range(x): \n",
    "    a.append([0]*x) #создали нулевую матрицу!\n",
    "#######################\n",
    "\n",
    "\n",
    "####################### блок обхода по кругу\n",
    "for j in range(0,z):\n",
    "    a[0][j] = cnt\n",
    "    cnt +=1\n",
    "for i in range(1,z):\n",
    "    a[i][z-1] = cnt\n",
    "    cnt +=1\n",
    "for j in range(z-2,-1,-1):\n",
    "    a[z-1][j] = cnt\n",
    "    cnt +=1\n",
    "for i in range(z-2,0,-1):\n",
    "    a[i][0] = cnt\n",
    "    cnt +=1\n",
    "######################    \n",
    "for i in a:\n",
    "    print(i)\n"
   ]
  },
  {
   "cell_type": "code",
   "execution_count": 68,
   "id": "c62baa1f",
   "metadata": {},
   "outputs": [
    {
     "name": "stdout",
     "output_type": "stream",
     "text": [
      "5\n",
      "1 2 3 4 5 \n",
      "16 17 18 19 6 \n",
      "15 24 25 20 7 \n",
      "14 23 22 21 8 \n",
      "13 12 11 10 9 \n"
     ]
    }
   ],
   "source": [
    "a = []\n",
    "z = int(input()) #переменная\n",
    "cnt=1\n",
    "f = 0\n",
    "t = -1\n",
    "\n",
    "for i in range(z): \n",
    "    a.append([0]*z) #создали нулевую матрицу!\n",
    "#######################\n",
    "\n",
    "for h in range(z,-1,-1):\n",
    "\n",
    "####################### блок обхода по кругу\n",
    "    for j in range(f,h):\n",
    "        if cnt >= z**2+1:\n",
    "            break\n",
    "        a[f][j] = cnt\n",
    "        cnt +=1\n",
    "    for i in range(f+1,h):\n",
    "        if cnt >= z**2+1:\n",
    "            break\n",
    "        a[i][h-1] = cnt\n",
    "        cnt +=1\n",
    "    for j in range(h-2,t,-1): \n",
    "        if cnt >= z**2+1:\n",
    "            break\n",
    "        a[h-1][j] = cnt\n",
    "        cnt +=1\n",
    "    for i in range(h-2,f,-1):\n",
    "        if cnt >= z**2+1:\n",
    "            break\n",
    "        a[i][f] = cnt\n",
    "        cnt +=1\n",
    "    f +=1\n",
    "    t +=1\n",
    "######################    \n",
    "\n",
    "###################### блок вывода\n",
    "for i in range(z):\n",
    "    for j in range(z):\n",
    "        print(a[i][j], end=' ')\n",
    "    print()\n"
   ]
  },
  {
   "cell_type": "code",
   "execution_count": 42,
   "id": "d4c96033",
   "metadata": {},
   "outputs": [
    {
     "name": "stdout",
     "output_type": "stream",
     "text": [
      "0\n",
      "1\n",
      "2\n",
      "3\n",
      "4\n",
      "5\n",
      "6\n",
      "7\n",
      "8\n",
      "9\n"
     ]
    }
   ],
   "source": [
    "for j in range(0,10):\n",
    "    print(j)"
   ]
  },
  {
   "cell_type": "markdown",
   "id": "d872df38",
   "metadata": {},
   "source": [
    "# Функции"
   ]
  },
  {
   "cell_type": "code",
   "execution_count": null,
   "id": "3b53cb4d",
   "metadata": {},
   "outputs": [],
   "source": [
    "def f(x):\n",
    "    if x <= -2:\n",
    "        return 1-(x+2)**2\n",
    "    elif -2 < x <= 2:\n",
    "        return -x/2\n",
    "    else:\n",
    "        return (x-2)**2 + 1\n",
    "        "
   ]
  },
  {
   "cell_type": "code",
   "execution_count": 36,
   "id": "0075b817",
   "metadata": {},
   "outputs": [
    {
     "name": "stdout",
     "output_type": "stream",
     "text": [
      "[1, 2, 3]\n"
     ]
    }
   ],
   "source": [
    "#Напишите функцию modify_list(l), которая принимает на вход список целых чисел, \n",
    "#удаляет из него все нечётные значения,а чётные нацело делит на два. \n",
    "#Функция не должна ничего возвращать, требуется только изменение переданного списка, например:\n",
    "\n",
    "l = [1,2,3,4,5,6,7]\n",
    "\n",
    "def modify_list(l):\n",
    "    for i in range(len(l)-1,-1,-1):\n",
    "        if l[i]%2 == 1:\n",
    "            l.pop(i)\n",
    "        else:\n",
    "            l[i] = int(l[i]/2)\n",
    "modify_list(l)\n",
    "print(l)"
   ]
  },
  {
   "cell_type": "code",
   "execution_count": 51,
   "id": "91b3d576",
   "metadata": {},
   "outputs": [
    {
     "name": "stdout",
     "output_type": "stream",
     "text": [
      "{6: [5]}\n",
      "{6: [5, 'vasia']}\n"
     ]
    }
   ],
   "source": [
    "# Напишите функцию update_dictionary(d, key, value), которая принимает на вход словарь d и два числа: key и value. \n",
    "# Если ключ key есть в словаре d, то добавьте значение value в список, который хранится по этому ключу. \n",
    "# Если ключа key нет в словаре, то нужно добавить значение в список по ключу 2∗key. \n",
    "# Если и ключа 2∗key нет, то нужно добавить ключ 2∗key в словарь и сопоставить ему список из переданного элемента [value].\n",
    "\n",
    "d = {}\n",
    "key = 3\n",
    "value = 5\n",
    "def update_dictionary(d, key, value):\n",
    "    if key in d:\n",
    "        d[key].append(value)\n",
    "    elif 2*key in d:\n",
    "        d[2*key].append(value)\n",
    "    else:\n",
    "        d[2*key] = [value]\n",
    "update_dictionary(d, key, value)\n",
    "\n",
    "print(d)\n",
    "d[6] += ['vasia']\n",
    "print(d)"
   ]
  },
  {
   "cell_type": "code",
   "execution_count": 54,
   "id": "4e3a4913",
   "metadata": {},
   "outputs": [
    {
     "name": "stdout",
     "output_type": "stream",
     "text": [
      "a sd df sd sd \n",
      "a 1\n",
      "['a', 'sd', 'df', 'sd', 'sd']\n",
      "sd 3\n",
      "['a', 'sd', 'df', 'sd', 'sd']\n",
      "df 1\n",
      "['a', 'sd', 'df', 'sd', 'sd']\n"
     ]
    }
   ],
   "source": [
    "#Когда Антон прочитал «Войну и мир», ему стало интересно, сколько слов и в каком количестве используется в этой книге.\n",
    "#Помогите Антону написать упрощённую версию такой программы, которая сможет подсчитать слова, \n",
    "#разделённые пробелом и вывести получившуюся статистику.\n",
    "#Программа должна считывать одну строку со стандартного ввода и выводить для каждого уникального слова в этой строке \n",
    "#число его повторений (без учёта регистра) в формате \"слово количество\" (см. пример вывода).\n",
    "#Порядок вывода слов может быть произвольным, каждое уникальное слово должно выводиться только один раз\n",
    "\n",
    "s = input().lower().split() #ввод создает список состоящий из элементов строки разделенных пробелом\n",
    "d = {}\n",
    "\n",
    "for i in s: #элементы списка s будут ключами словаря d, а значения получим из счетчика повторения ключей\n",
    "    if i in d:\n",
    "        d[i] += 1\n",
    "    else:\n",
    "        d[i] = 1\n",
    "\n",
    "for key, value in d.items():\n",
    "    print(key, value)\n",
    "\n",
    "\n"
   ]
  },
  {
   "cell_type": "code",
   "execution_count": 8,
   "id": "3cce7519",
   "metadata": {},
   "outputs": [
    {
     "name": "stdout",
     "output_type": "stream",
     "text": [
      "3\n",
      "2\n",
      "3\n",
      "2\n",
      "4\n",
      "9\n",
      "4\n"
     ]
    }
   ],
   "source": [
    "#функция f(x) - задана заранее, требуется создать программу которая будет кэшировать результат вычисления функции \n",
    "#и не считать ее повторно при выводе.\n",
    "\n",
    "n = int(input())\n",
    "a = []\n",
    "d = {}\n",
    "\n",
    "def f(x):\n",
    "    return x**2\n",
    "\n",
    "for i in range(n):\n",
    "    x = int(input())\n",
    "    a.append(x)\n",
    "for j in a:\n",
    "    if j in d:\n",
    "        continue\n",
    "    else:\n",
    "        d[j] = f(j)\n",
    "for j in a:\n",
    "    print(d[j])\n"
   ]
  },
  {
   "cell_type": "code",
   "execution_count": null,
   "id": "84ef6ad2",
   "metadata": {},
   "outputs": [],
   "source": [
    "#то же решение но с генератором\n",
    "a=[int(input()) for i in range(int(input()))]\n",
    "b={x:f(x) for x in set(a)}\n",
    "for i in a:\n",
    "    print(b[i])"
   ]
  },
  {
   "cell_type": "markdown",
   "id": "bb5bc902",
   "metadata": {},
   "source": [
    "# Чтение из файла"
   ]
  },
  {
   "cell_type": "code",
   "execution_count": 49,
   "id": "32a7a657",
   "metadata": {},
   "outputs": [
    {
     "name": "stdout",
     "output_type": "stream",
     "text": [
      "S10N6G16P8p13o6t2u3D10V17d3Y8y6o7z14a8v14O11G4e8V18\n"
     ]
    }
   ],
   "source": [
    "#Напишите программу, которая считывает из файла строку, соответствующую тексту, сжатому с помощью кодирования повторов, \n",
    "#и производит обратную операцию, получая исходный текст.\n",
    "\n",
    "\n",
    "\n",
    "with open('/Users/soficodanilyantz/Desktop/dataset_3363_2.txt') as inf: #считываем файл ввода\n",
    "    for line in inf:\n",
    "        line = line.strip()\n",
    "        print(line)\n",
    "\n",
    "ouf = open('/Users/soficodanilyantz/Desktop/1.txt', 'w')  #очищаем файл вывода\n",
    "ouf.close()\n",
    "for i in range(len(line)):\n",
    "    if line[i].isdigit() and not line[i-len(line)+1].isdigit():\n",
    "        if line[i].isdigit() and not line[i-1].isdigit():\n",
    "            with open('/Users/soficodanilyantz/Desktop/1.txt', 'a') as ouf:\n",
    "                ouf.write(str(line[i-1]*int(line[i])))\n",
    "        if line[i].isdigit() and line[i-1].isdigit():\n",
    "            with open('/Users/soficodanilyantz/Desktop/1.txt', 'a') as ouf:\n",
    "                ouf.write(str(line[i-2]*int(line[i-1]+line[i])))\n",
    "            \n",
    "\n",
    "  "
   ]
  },
  {
   "cell_type": "code",
   "execution_count": 80,
   "id": "b3ec1281",
   "metadata": {},
   "outputs": [
    {
     "name": "stdout",
     "output_type": "stream",
     "text": [
      "мне 10\n"
     ]
    }
   ],
   "source": [
    "#Самое частое слово в тексте! Если таких слов несколько, вывести лексикографически первое.\n",
    "\n",
    "\n",
    "text = ''\n",
    "with open('/Users/soficodanilyantz/Desktop/dataset_3363_2.txt') as inf: #считываем файл ввода\n",
    "    for line in inf:\n",
    "        text += ' '+line.strip()\n",
    "text_st = text.split()\n",
    "text_lw = text.lower().split()\n",
    "\n",
    "d = {}\n",
    "\n",
    "for i in text_lw: #элементы списка s будут ключами словаря d, а значения получим из счетчика повторения ключей\n",
    "    if i in d:\n",
    "        d[i] += 1\n",
    "    else:\n",
    "        d[i] = 1\n",
    "        \n",
    "max_val = max(d.values())\n",
    "\n",
    "z = []\n",
    "\n",
    "for i in d:\n",
    "    if d[i] == max_val:\n",
    "        for j in text_st:\n",
    "            if i == j.lower():\n",
    "                z.append(j)\n",
    "                break\n",
    "\n",
    "y = z[0]\n",
    "for i in z:\n",
    "    if i < y:\n",
    "        y = i\n",
    "print(y, d[y.lower()])\n",
    "   \n"
   ]
  },
  {
   "cell_type": "code",
   "execution_count": 1,
   "id": "61f07861",
   "metadata": {},
   "outputs": [
    {
     "data": {
      "text/plain": [
       "1"
      ]
     },
     "execution_count": 1,
     "metadata": {},
     "output_type": "execute_result"
    }
   ],
   "source": [
    "5%2\n"
   ]
  },
  {
   "cell_type": "code",
   "execution_count": null,
   "id": "1055d937",
   "metadata": {},
   "outputs": [],
   "source": []
  }
 ],
 "metadata": {
  "kernelspec": {
   "display_name": "Python 3 (ipykernel)",
   "language": "python",
   "name": "python3"
  },
  "language_info": {
   "codemirror_mode": {
    "name": "ipython",
    "version": 3
   },
   "file_extension": ".py",
   "mimetype": "text/x-python",
   "name": "python",
   "nbconvert_exporter": "python",
   "pygments_lexer": "ipython3",
   "version": "3.9.12"
  }
 },
 "nbformat": 4,
 "nbformat_minor": 5
}
