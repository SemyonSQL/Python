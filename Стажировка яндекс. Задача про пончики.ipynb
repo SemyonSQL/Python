{
 "cells": [
  {
   "cell_type": "markdown",
   "id": "b40f1a01",
   "metadata": {},
   "source": [
    "N классов в школе программистов решили отпраздновать конец четверти и заказать пончиков \n",
    "M видов. В ближайшей кофейне ученикам предложили выбрать один прайс-лист из \n",
    "L разновидностей.\n",
    "\n",
    "Помогите ученикам написать код, который посчитает сколько денег на пончики по разным прайс-листам потратит каждый класс.\n",
    "\n",
    "Формат ввода\n",
    "Первая строка содержит числа \n",
    "1≤N,M,L≤500\n",
    "\n",
    "Далее идут N строк, содержащих M чисел - количества пончиков каждого вида, необходимые каждому классу.\n",
    "\n",
    "Далее идут M строк, содержащие список цен для каждого вида пончиков в каждом из L прайс-листов.\n",
    "\n",
    "Формат вывода\n",
    "Выведите \n",
    "N строк, содержащих стоимость всех пончиков для каждого класса для каждого из L прайс-листов."
   ]
  },
  {
   "cell_type": "code",
   "execution_count": 90,
   "id": "07aa0af0",
   "metadata": {},
   "outputs": [
    {
     "name": "stdout",
     "output_type": "stream",
     "text": [
      "4 4 8\n",
      "3 2 4 4\n",
      "2 4 3 3\n",
      "2 1 3 1\n",
      "4 3 3 4\n",
      "2 4 1 2 4 4 3 2\n",
      "3 2 4 1 3 1 1 4\n",
      "1 2 1 1 2 3 4 2\n",
      "3 1 3 3 1 3 3 4\n",
      "28 28 27 24 30 38 39 38 \n",
      "28 25 30 20 29 30 31 38 \n",
      "13 17 12 11 18 21 22 18 \n",
      "32 32 31 26 35 40 39 42 \n"
     ]
    }
   ],
   "source": [
    "N,M,L = (int(i) for i in input().split())\n",
    "m = [] #количество пончиков каждого вида, для каждого класса\n",
    "k = [] #прайслист по пончикам каждого вида\n",
    "p = [] #матрица вывода\n",
    "\n",
    "for i in range(M):\n",
    "    p.append([0]*L)\n",
    "\n",
    "for i in range(N):\n",
    "    n = str(input()) # ввод строк\n",
    "    m.append([int(s) for s in n.split()])\n",
    "\n",
    "for i in range(N): #обрезка N строк по длине M\n",
    "    del m[i][M:]\n",
    "    \n",
    "for i in range(M):\n",
    "    n = str(input()) # ввод строк\n",
    "    k.append([int(s) for s in n.split()])\n",
    "\n",
    "for i in range(M): #обрезка M строк по длине L\n",
    "    del k[i][L:]\n",
    "\n",
    "for n in range(M): #заполняем матрицу вывода\n",
    "    for j in range(L):\n",
    "        for i in range(M):\n",
    "            p[n][j] += (m[n][i])*(k[i][j])\n",
    "\n",
    "for i in range(M): #выводим матрицу без запятых и скобок\n",
    "    for j in range(L):\n",
    "        print(p[i][j], end=' ')\n",
    "    print()"
   ]
  }
 ],
 "metadata": {
  "kernelspec": {
   "display_name": "Python 3 (ipykernel)",
   "language": "python",
   "name": "python3"
  },
  "language_info": {
   "codemirror_mode": {
    "name": "ipython",
    "version": 3
   },
   "file_extension": ".py",
   "mimetype": "text/x-python",
   "name": "python",
   "nbconvert_exporter": "python",
   "pygments_lexer": "ipython3",
   "version": "3.9.12"
  }
 },
 "nbformat": 4,
 "nbformat_minor": 5
}
